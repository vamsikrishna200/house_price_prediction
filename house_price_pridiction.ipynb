{
  "cells": [
    {
      "cell_type": "code",
      "source": [
        "import pandas as pd\n",
        "from sklearn.model_selection import train_test_split\n",
        "from sklearn.preprocessing import StandardScaler\n",
        "from sklearn.metrics import mean_squared_error\n",
        "from sklearn.linear_model import LinearRegression\n",
        "from sklearn.neural_network import MLPRegressor\n",
        "import tensorflow as tf\n",
        "from tensorflow.keras.models import Sequential\n",
        "from tensorflow.keras.layers import Dense\n",
        "import matplotlib.pyplot as plt\n",
        "import seaborn as sn\n",
        "from sklearn.metrics import confusion_matrix, classification_report"
      ],
      "metadata": {
        "id": "TxuGi0gxuCws"
      },
      "execution_count": null,
      "outputs": []
    },
    {
      "cell_type": "code",
      "source": [
        "data = pd.read_csv('/content/Housing.csv')\n",
        "print(data)"
      ],
      "metadata": {
        "id": "P1DDuruuuCtR",
        "outputId": "c98a5da4-d329-4f8a-e076-7c92fa811158",
        "colab": {
          "base_uri": "https://localhost:8080/"
        }
      },
      "execution_count": null,
      "outputs": [
        {
          "output_type": "stream",
          "name": "stdout",
          "text": [
            "        price  area  bedrooms  bathrooms  stories mainroad guestroom basement  \\\n",
            "0    13300000  7420         4          2        3      yes        no       no   \n",
            "1    12250000  8960         4          4        4      yes        no       no   \n",
            "2    12250000  9960         3          2        2      yes        no      yes   \n",
            "3    12215000  7500         4          2        2      yes        no      yes   \n",
            "4    11410000  7420         4          1        2      yes       yes      yes   \n",
            "..        ...   ...       ...        ...      ...      ...       ...      ...   \n",
            "540   1820000  3000         2          1        1      yes        no      yes   \n",
            "541   1767150  2400         3          1        1       no        no       no   \n",
            "542   1750000  3620         2          1        1      yes        no       no   \n",
            "543   1750000  2910         3          1        1       no        no       no   \n",
            "544   1750000  3850         3          1        2      yes        no       no   \n",
            "\n",
            "    hotwaterheating airconditioning  parking prefarea furnishingstatus  \n",
            "0                no             yes        2      yes        furnished  \n",
            "1                no             yes        3       no        furnished  \n",
            "2                no              no        2      yes   semi-furnished  \n",
            "3                no             yes        3      yes        furnished  \n",
            "4                no             yes        2       no        furnished  \n",
            "..              ...             ...      ...      ...              ...  \n",
            "540              no              no        2       no      unfurnished  \n",
            "541              no              no        0       no   semi-furnished  \n",
            "542              no              no        0       no      unfurnished  \n",
            "543              no              no        0       no        furnished  \n",
            "544              no              no        0       no      unfurnished  \n",
            "\n",
            "[545 rows x 13 columns]\n"
          ]
        }
      ]
    },
    {
      "cell_type": "code",
      "source": [
        "# Assume 'price' is the target variable\n",
        "X = data.drop('price', axis=1)\n",
        "y = data['price']\n",
        "\n"
      ],
      "metadata": {
        "id": "FAgtxsIUuCrE"
      },
      "execution_count": null,
      "outputs": []
    },
    {
      "cell_type": "code",
      "source": [
        "# Identify categorical features and perform one-hot encoding\n",
        "categorical_features = X.select_dtypes(include=['object']).columns\n",
        "X = pd.get_dummies(X, columns=categorical_features, drop_first=True)\n",
        "\n"
      ],
      "metadata": {
        "id": "rb9TQJL_uCoz"
      },
      "execution_count": null,
      "outputs": []
    },
    {
      "cell_type": "code",
      "source": [
        "# Split the data into training and testing sets\n",
        "X_train, X_test, y_train, y_test = train_test_split(X, y, test_size=0.2, random_state=42)\n",
        "\n"
      ],
      "metadata": {
        "id": "ZCEGQiWXuCmq"
      },
      "execution_count": null,
      "outputs": []
    },
    {
      "cell_type": "code",
      "source": [
        "X_train"
      ],
      "metadata": {
        "id": "8ferCFYw0wgP",
        "outputId": "6218885a-11e9-4f55-e663-391e176bf24a",
        "colab": {
          "base_uri": "https://localhost:8080/",
          "height": 461
        }
      },
      "execution_count": null,
      "outputs": [
        {
          "output_type": "execute_result",
          "data": {
            "text/plain": [
              "     area  bedrooms  bathrooms  stories  parking  mainroad_yes  guestroom_yes  \\\n",
              "46   6000         3          2        4        1             1              0   \n",
              "93   7200         3          2        1        3             1              0   \n",
              "335  3816         2          1        1        2             1              0   \n",
              "412  2610         3          1        2        0             1              0   \n",
              "471  3750         3          1        2        0             1              0   \n",
              "..    ...       ...        ...      ...      ...           ...            ...   \n",
              "71   6000         4          2        4        0             1              0   \n",
              "106  5450         4          2        1        0             1              0   \n",
              "270  4500         3          2        3        1             1              0   \n",
              "435  4040         2          1        1        0             1              0   \n",
              "102  5500         3          2        4        1             1              1   \n",
              "\n",
              "     basement_yes  hotwaterheating_yes  airconditioning_yes  prefarea_yes  \\\n",
              "46              0                    0                    1             0   \n",
              "93              1                    0                    1             0   \n",
              "335             1                    0                    1             0   \n",
              "412             1                    0                    0             1   \n",
              "471             0                    0                    0             0   \n",
              "..            ...                  ...                  ...           ...   \n",
              "71              0                    0                    1             0   \n",
              "106             1                    0                    1             1   \n",
              "270             0                    1                    0             0   \n",
              "435             0                    0                    0             0   \n",
              "102             0                    0                    1             0   \n",
              "\n",
              "     furnishingstatus_semi-furnished  furnishingstatus_unfurnished  \n",
              "46                                 0                             0  \n",
              "93                                 1                             0  \n",
              "335                                0                             0  \n",
              "412                                0                             1  \n",
              "471                                0                             1  \n",
              "..                               ...                           ...  \n",
              "71                                 0                             1  \n",
              "106                                1                             0  \n",
              "270                                0                             0  \n",
              "435                                0                             1  \n",
              "102                                1                             0  \n",
              "\n",
              "[436 rows x 13 columns]"
            ],
            "text/html": [
              "\n",
              "  <div id=\"df-1bd6f61b-2c61-42e6-a240-c3c50bfa53fe\" class=\"colab-df-container\">\n",
              "    <div>\n",
              "<style scoped>\n",
              "    .dataframe tbody tr th:only-of-type {\n",
              "        vertical-align: middle;\n",
              "    }\n",
              "\n",
              "    .dataframe tbody tr th {\n",
              "        vertical-align: top;\n",
              "    }\n",
              "\n",
              "    .dataframe thead th {\n",
              "        text-align: right;\n",
              "    }\n",
              "</style>\n",
              "<table border=\"1\" class=\"dataframe\">\n",
              "  <thead>\n",
              "    <tr style=\"text-align: right;\">\n",
              "      <th></th>\n",
              "      <th>area</th>\n",
              "      <th>bedrooms</th>\n",
              "      <th>bathrooms</th>\n",
              "      <th>stories</th>\n",
              "      <th>parking</th>\n",
              "      <th>mainroad_yes</th>\n",
              "      <th>guestroom_yes</th>\n",
              "      <th>basement_yes</th>\n",
              "      <th>hotwaterheating_yes</th>\n",
              "      <th>airconditioning_yes</th>\n",
              "      <th>prefarea_yes</th>\n",
              "      <th>furnishingstatus_semi-furnished</th>\n",
              "      <th>furnishingstatus_unfurnished</th>\n",
              "    </tr>\n",
              "  </thead>\n",
              "  <tbody>\n",
              "    <tr>\n",
              "      <th>46</th>\n",
              "      <td>6000</td>\n",
              "      <td>3</td>\n",
              "      <td>2</td>\n",
              "      <td>4</td>\n",
              "      <td>1</td>\n",
              "      <td>1</td>\n",
              "      <td>0</td>\n",
              "      <td>0</td>\n",
              "      <td>0</td>\n",
              "      <td>1</td>\n",
              "      <td>0</td>\n",
              "      <td>0</td>\n",
              "      <td>0</td>\n",
              "    </tr>\n",
              "    <tr>\n",
              "      <th>93</th>\n",
              "      <td>7200</td>\n",
              "      <td>3</td>\n",
              "      <td>2</td>\n",
              "      <td>1</td>\n",
              "      <td>3</td>\n",
              "      <td>1</td>\n",
              "      <td>0</td>\n",
              "      <td>1</td>\n",
              "      <td>0</td>\n",
              "      <td>1</td>\n",
              "      <td>0</td>\n",
              "      <td>1</td>\n",
              "      <td>0</td>\n",
              "    </tr>\n",
              "    <tr>\n",
              "      <th>335</th>\n",
              "      <td>3816</td>\n",
              "      <td>2</td>\n",
              "      <td>1</td>\n",
              "      <td>1</td>\n",
              "      <td>2</td>\n",
              "      <td>1</td>\n",
              "      <td>0</td>\n",
              "      <td>1</td>\n",
              "      <td>0</td>\n",
              "      <td>1</td>\n",
              "      <td>0</td>\n",
              "      <td>0</td>\n",
              "      <td>0</td>\n",
              "    </tr>\n",
              "    <tr>\n",
              "      <th>412</th>\n",
              "      <td>2610</td>\n",
              "      <td>3</td>\n",
              "      <td>1</td>\n",
              "      <td>2</td>\n",
              "      <td>0</td>\n",
              "      <td>1</td>\n",
              "      <td>0</td>\n",
              "      <td>1</td>\n",
              "      <td>0</td>\n",
              "      <td>0</td>\n",
              "      <td>1</td>\n",
              "      <td>0</td>\n",
              "      <td>1</td>\n",
              "    </tr>\n",
              "    <tr>\n",
              "      <th>471</th>\n",
              "      <td>3750</td>\n",
              "      <td>3</td>\n",
              "      <td>1</td>\n",
              "      <td>2</td>\n",
              "      <td>0</td>\n",
              "      <td>1</td>\n",
              "      <td>0</td>\n",
              "      <td>0</td>\n",
              "      <td>0</td>\n",
              "      <td>0</td>\n",
              "      <td>0</td>\n",
              "      <td>0</td>\n",
              "      <td>1</td>\n",
              "    </tr>\n",
              "    <tr>\n",
              "      <th>...</th>\n",
              "      <td>...</td>\n",
              "      <td>...</td>\n",
              "      <td>...</td>\n",
              "      <td>...</td>\n",
              "      <td>...</td>\n",
              "      <td>...</td>\n",
              "      <td>...</td>\n",
              "      <td>...</td>\n",
              "      <td>...</td>\n",
              "      <td>...</td>\n",
              "      <td>...</td>\n",
              "      <td>...</td>\n",
              "      <td>...</td>\n",
              "    </tr>\n",
              "    <tr>\n",
              "      <th>71</th>\n",
              "      <td>6000</td>\n",
              "      <td>4</td>\n",
              "      <td>2</td>\n",
              "      <td>4</td>\n",
              "      <td>0</td>\n",
              "      <td>1</td>\n",
              "      <td>0</td>\n",
              "      <td>0</td>\n",
              "      <td>0</td>\n",
              "      <td>1</td>\n",
              "      <td>0</td>\n",
              "      <td>0</td>\n",
              "      <td>1</td>\n",
              "    </tr>\n",
              "    <tr>\n",
              "      <th>106</th>\n",
              "      <td>5450</td>\n",
              "      <td>4</td>\n",
              "      <td>2</td>\n",
              "      <td>1</td>\n",
              "      <td>0</td>\n",
              "      <td>1</td>\n",
              "      <td>0</td>\n",
              "      <td>1</td>\n",
              "      <td>0</td>\n",
              "      <td>1</td>\n",
              "      <td>1</td>\n",
              "      <td>1</td>\n",
              "      <td>0</td>\n",
              "    </tr>\n",
              "    <tr>\n",
              "      <th>270</th>\n",
              "      <td>4500</td>\n",
              "      <td>3</td>\n",
              "      <td>2</td>\n",
              "      <td>3</td>\n",
              "      <td>1</td>\n",
              "      <td>1</td>\n",
              "      <td>0</td>\n",
              "      <td>0</td>\n",
              "      <td>1</td>\n",
              "      <td>0</td>\n",
              "      <td>0</td>\n",
              "      <td>0</td>\n",
              "      <td>0</td>\n",
              "    </tr>\n",
              "    <tr>\n",
              "      <th>435</th>\n",
              "      <td>4040</td>\n",
              "      <td>2</td>\n",
              "      <td>1</td>\n",
              "      <td>1</td>\n",
              "      <td>0</td>\n",
              "      <td>1</td>\n",
              "      <td>0</td>\n",
              "      <td>0</td>\n",
              "      <td>0</td>\n",
              "      <td>0</td>\n",
              "      <td>0</td>\n",
              "      <td>0</td>\n",
              "      <td>1</td>\n",
              "    </tr>\n",
              "    <tr>\n",
              "      <th>102</th>\n",
              "      <td>5500</td>\n",
              "      <td>3</td>\n",
              "      <td>2</td>\n",
              "      <td>4</td>\n",
              "      <td>1</td>\n",
              "      <td>1</td>\n",
              "      <td>1</td>\n",
              "      <td>0</td>\n",
              "      <td>0</td>\n",
              "      <td>1</td>\n",
              "      <td>0</td>\n",
              "      <td>1</td>\n",
              "      <td>0</td>\n",
              "    </tr>\n",
              "  </tbody>\n",
              "</table>\n",
              "<p>436 rows × 13 columns</p>\n",
              "</div>\n",
              "    <div class=\"colab-df-buttons\">\n",
              "\n",
              "  <div class=\"colab-df-container\">\n",
              "    <button class=\"colab-df-convert\" onclick=\"convertToInteractive('df-1bd6f61b-2c61-42e6-a240-c3c50bfa53fe')\"\n",
              "            title=\"Convert this dataframe to an interactive table.\"\n",
              "            style=\"display:none;\">\n",
              "\n",
              "  <svg xmlns=\"http://www.w3.org/2000/svg\" height=\"24px\" viewBox=\"0 -960 960 960\">\n",
              "    <path d=\"M120-120v-720h720v720H120Zm60-500h600v-160H180v160Zm220 220h160v-160H400v160Zm0 220h160v-160H400v160ZM180-400h160v-160H180v160Zm440 0h160v-160H620v160ZM180-180h160v-160H180v160Zm440 0h160v-160H620v160Z\"/>\n",
              "  </svg>\n",
              "    </button>\n",
              "\n",
              "  <style>\n",
              "    .colab-df-container {\n",
              "      display:flex;\n",
              "      gap: 12px;\n",
              "    }\n",
              "\n",
              "    .colab-df-convert {\n",
              "      background-color: #E8F0FE;\n",
              "      border: none;\n",
              "      border-radius: 50%;\n",
              "      cursor: pointer;\n",
              "      display: none;\n",
              "      fill: #1967D2;\n",
              "      height: 32px;\n",
              "      padding: 0 0 0 0;\n",
              "      width: 32px;\n",
              "    }\n",
              "\n",
              "    .colab-df-convert:hover {\n",
              "      background-color: #E2EBFA;\n",
              "      box-shadow: 0px 1px 2px rgba(60, 64, 67, 0.3), 0px 1px 3px 1px rgba(60, 64, 67, 0.15);\n",
              "      fill: #174EA6;\n",
              "    }\n",
              "\n",
              "    .colab-df-buttons div {\n",
              "      margin-bottom: 4px;\n",
              "    }\n",
              "\n",
              "    [theme=dark] .colab-df-convert {\n",
              "      background-color: #3B4455;\n",
              "      fill: #D2E3FC;\n",
              "    }\n",
              "\n",
              "    [theme=dark] .colab-df-convert:hover {\n",
              "      background-color: #434B5C;\n",
              "      box-shadow: 0px 1px 3px 1px rgba(0, 0, 0, 0.15);\n",
              "      filter: drop-shadow(0px 1px 2px rgba(0, 0, 0, 0.3));\n",
              "      fill: #FFFFFF;\n",
              "    }\n",
              "  </style>\n",
              "\n",
              "    <script>\n",
              "      const buttonEl =\n",
              "        document.querySelector('#df-1bd6f61b-2c61-42e6-a240-c3c50bfa53fe button.colab-df-convert');\n",
              "      buttonEl.style.display =\n",
              "        google.colab.kernel.accessAllowed ? 'block' : 'none';\n",
              "\n",
              "      async function convertToInteractive(key) {\n",
              "        const element = document.querySelector('#df-1bd6f61b-2c61-42e6-a240-c3c50bfa53fe');\n",
              "        const dataTable =\n",
              "          await google.colab.kernel.invokeFunction('convertToInteractive',\n",
              "                                                    [key], {});\n",
              "        if (!dataTable) return;\n",
              "\n",
              "        const docLinkHtml = 'Like what you see? Visit the ' +\n",
              "          '<a target=\"_blank\" href=https://colab.research.google.com/notebooks/data_table.ipynb>data table notebook</a>'\n",
              "          + ' to learn more about interactive tables.';\n",
              "        element.innerHTML = '';\n",
              "        dataTable['output_type'] = 'display_data';\n",
              "        await google.colab.output.renderOutput(dataTable, element);\n",
              "        const docLink = document.createElement('div');\n",
              "        docLink.innerHTML = docLinkHtml;\n",
              "        element.appendChild(docLink);\n",
              "      }\n",
              "    </script>\n",
              "  </div>\n",
              "\n",
              "\n",
              "<div id=\"df-258b7c8b-899f-4381-9ad3-31c378baefbc\">\n",
              "  <button class=\"colab-df-quickchart\" onclick=\"quickchart('df-258b7c8b-899f-4381-9ad3-31c378baefbc')\"\n",
              "            title=\"Suggest charts\"\n",
              "            style=\"display:none;\">\n",
              "\n",
              "<svg xmlns=\"http://www.w3.org/2000/svg\" height=\"24px\"viewBox=\"0 0 24 24\"\n",
              "     width=\"24px\">\n",
              "    <g>\n",
              "        <path d=\"M19 3H5c-1.1 0-2 .9-2 2v14c0 1.1.9 2 2 2h14c1.1 0 2-.9 2-2V5c0-1.1-.9-2-2-2zM9 17H7v-7h2v7zm4 0h-2V7h2v10zm4 0h-2v-4h2v4z\"/>\n",
              "    </g>\n",
              "</svg>\n",
              "  </button>\n",
              "\n",
              "<style>\n",
              "  .colab-df-quickchart {\n",
              "      --bg-color: #E8F0FE;\n",
              "      --fill-color: #1967D2;\n",
              "      --hover-bg-color: #E2EBFA;\n",
              "      --hover-fill-color: #174EA6;\n",
              "      --disabled-fill-color: #AAA;\n",
              "      --disabled-bg-color: #DDD;\n",
              "  }\n",
              "\n",
              "  [theme=dark] .colab-df-quickchart {\n",
              "      --bg-color: #3B4455;\n",
              "      --fill-color: #D2E3FC;\n",
              "      --hover-bg-color: #434B5C;\n",
              "      --hover-fill-color: #FFFFFF;\n",
              "      --disabled-bg-color: #3B4455;\n",
              "      --disabled-fill-color: #666;\n",
              "  }\n",
              "\n",
              "  .colab-df-quickchart {\n",
              "    background-color: var(--bg-color);\n",
              "    border: none;\n",
              "    border-radius: 50%;\n",
              "    cursor: pointer;\n",
              "    display: none;\n",
              "    fill: var(--fill-color);\n",
              "    height: 32px;\n",
              "    padding: 0;\n",
              "    width: 32px;\n",
              "  }\n",
              "\n",
              "  .colab-df-quickchart:hover {\n",
              "    background-color: var(--hover-bg-color);\n",
              "    box-shadow: 0 1px 2px rgba(60, 64, 67, 0.3), 0 1px 3px 1px rgba(60, 64, 67, 0.15);\n",
              "    fill: var(--button-hover-fill-color);\n",
              "  }\n",
              "\n",
              "  .colab-df-quickchart-complete:disabled,\n",
              "  .colab-df-quickchart-complete:disabled:hover {\n",
              "    background-color: var(--disabled-bg-color);\n",
              "    fill: var(--disabled-fill-color);\n",
              "    box-shadow: none;\n",
              "  }\n",
              "\n",
              "  .colab-df-spinner {\n",
              "    border: 2px solid var(--fill-color);\n",
              "    border-color: transparent;\n",
              "    border-bottom-color: var(--fill-color);\n",
              "    animation:\n",
              "      spin 1s steps(1) infinite;\n",
              "  }\n",
              "\n",
              "  @keyframes spin {\n",
              "    0% {\n",
              "      border-color: transparent;\n",
              "      border-bottom-color: var(--fill-color);\n",
              "      border-left-color: var(--fill-color);\n",
              "    }\n",
              "    20% {\n",
              "      border-color: transparent;\n",
              "      border-left-color: var(--fill-color);\n",
              "      border-top-color: var(--fill-color);\n",
              "    }\n",
              "    30% {\n",
              "      border-color: transparent;\n",
              "      border-left-color: var(--fill-color);\n",
              "      border-top-color: var(--fill-color);\n",
              "      border-right-color: var(--fill-color);\n",
              "    }\n",
              "    40% {\n",
              "      border-color: transparent;\n",
              "      border-right-color: var(--fill-color);\n",
              "      border-top-color: var(--fill-color);\n",
              "    }\n",
              "    60% {\n",
              "      border-color: transparent;\n",
              "      border-right-color: var(--fill-color);\n",
              "    }\n",
              "    80% {\n",
              "      border-color: transparent;\n",
              "      border-right-color: var(--fill-color);\n",
              "      border-bottom-color: var(--fill-color);\n",
              "    }\n",
              "    90% {\n",
              "      border-color: transparent;\n",
              "      border-bottom-color: var(--fill-color);\n",
              "    }\n",
              "  }\n",
              "</style>\n",
              "\n",
              "  <script>\n",
              "    async function quickchart(key) {\n",
              "      const quickchartButtonEl =\n",
              "        document.querySelector('#' + key + ' button');\n",
              "      quickchartButtonEl.disabled = true;  // To prevent multiple clicks.\n",
              "      quickchartButtonEl.classList.add('colab-df-spinner');\n",
              "      try {\n",
              "        const charts = await google.colab.kernel.invokeFunction(\n",
              "            'suggestCharts', [key], {});\n",
              "      } catch (error) {\n",
              "        console.error('Error during call to suggestCharts:', error);\n",
              "      }\n",
              "      quickchartButtonEl.classList.remove('colab-df-spinner');\n",
              "      quickchartButtonEl.classList.add('colab-df-quickchart-complete');\n",
              "    }\n",
              "    (() => {\n",
              "      let quickchartButtonEl =\n",
              "        document.querySelector('#df-258b7c8b-899f-4381-9ad3-31c378baefbc button');\n",
              "      quickchartButtonEl.style.display =\n",
              "        google.colab.kernel.accessAllowed ? 'block' : 'none';\n",
              "    })();\n",
              "  </script>\n",
              "</div>\n",
              "    </div>\n",
              "  </div>\n"
            ]
          },
          "metadata": {},
          "execution_count": 47
        }
      ]
    },
    {
      "cell_type": "code",
      "source": [
        "y_train"
      ],
      "metadata": {
        "id": "a-yl2tmW0125",
        "outputId": "0e9b2454-d9d9-4bc3-c40d-933d32d89ea5",
        "colab": {
          "base_uri": "https://localhost:8080/"
        }
      },
      "execution_count": null,
      "outputs": [
        {
          "output_type": "execute_result",
          "data": {
            "text/plain": [
              "46     1\n",
              "93     1\n",
              "335    0\n",
              "412    0\n",
              "471    0\n",
              "      ..\n",
              "71     1\n",
              "106    1\n",
              "270    0\n",
              "435    0\n",
              "102    1\n",
              "Name: price, Length: 436, dtype: int64"
            ]
          },
          "metadata": {},
          "execution_count": 49
        }
      ]
    },
    {
      "cell_type": "code",
      "source": [
        "# Standardize the features using StandardScaler\n",
        "scaler = StandardScaler()\n",
        "X_train_scaled = scaler.fit_transform(X_train)\n",
        "X_test_scaled = scaler.transform(X_test)\n"
      ],
      "metadata": {
        "id": "cJAwc8BRuCkD"
      },
      "execution_count": null,
      "outputs": []
    },
    {
      "cell_type": "code",
      "source": [
        "X_train_scaled"
      ],
      "metadata": {
        "id": "aMtNXOHEwdd9",
        "outputId": "a6e193d6-9987-42e2-af10-5196b8e7e56f",
        "colab": {
          "base_uri": "https://localhost:8080/"
        }
      },
      "execution_count": null,
      "outputs": [
        {
          "output_type": "execute_result",
          "data": {
            "text/plain": [
              "array([[ 0.38416819,  0.05527092,  1.53917323, ..., -0.55262032,\n",
              "        -0.870669  , -0.67690027],\n",
              "       [ 0.9291807 ,  0.05527092,  1.53917323, ..., -0.55262032,\n",
              "         1.14854209, -0.67690027],\n",
              "       [-0.60775457, -1.28351359, -0.5579503 , ..., -0.55262032,\n",
              "        -0.870669  , -0.67690027],\n",
              "       ...,\n",
              "       [-0.29709744,  0.05527092,  1.53917323, ..., -0.55262032,\n",
              "        -0.870669  , -0.67690027],\n",
              "       [-0.5060189 , -1.28351359, -0.5579503 , ..., -0.55262032,\n",
              "        -0.870669  ,  1.47732249],\n",
              "       [ 0.15707965,  0.05527092,  1.53917323, ..., -0.55262032,\n",
              "         1.14854209, -0.67690027]])"
            ]
          },
          "metadata": {},
          "execution_count": 13
        }
      ]
    },
    {
      "cell_type": "code",
      "source": [
        "X_test_scaled"
      ],
      "metadata": {
        "id": "SQdVGB2nuChe",
        "outputId": "abfc28c0-f942-44a4-fac2-eff10102d024",
        "colab": {
          "base_uri": "https://localhost:8080/"
        }
      },
      "execution_count": null,
      "outputs": [
        {
          "output_type": "execute_result",
          "data": {
            "text/plain": [
              "array([[ 0.33875048,  1.39405543,  1.53917323, ..., -0.55262032,\n",
              "        -0.870669  ,  1.47732249],\n",
              "       [ 0.61125674,  0.05527092,  1.53917323, ...,  1.80956067,\n",
              "        -0.870669  , -0.67690027],\n",
              "       [-0.5060189 , -1.28351359, -0.5579503 , ..., -0.55262032,\n",
              "         1.14854209, -0.67690027],\n",
              "       ...,\n",
              "       [ 0.38416819,  1.39405543,  1.53917323, ..., -0.55262032,\n",
              "         1.14854209, -0.67690027],\n",
              "       [ 0.38416819,  0.05527092,  1.53917323, ..., -0.55262032,\n",
              "         1.14854209, -0.67690027],\n",
              "       [ 0.4295859 ,  0.05527092,  1.53917323, ...,  1.80956067,\n",
              "        -0.870669  , -0.67690027]])"
            ]
          },
          "metadata": {},
          "execution_count": 12
        }
      ]
    },
    {
      "cell_type": "code",
      "source": [
        "\n",
        "# 1. Linear Regression model (as a baseline)\n",
        "linear_model = LinearRegression()\n",
        "linear_model.fit(X_train_scaled, y_train)"
      ],
      "metadata": {
        "id": "MI4AQ3EIuCRi",
        "outputId": "8c0bdcf5-ecfb-4acb-8ec3-d74026c7afcb",
        "colab": {
          "base_uri": "https://localhost:8080/",
          "height": 74
        }
      },
      "execution_count": null,
      "outputs": [
        {
          "output_type": "execute_result",
          "data": {
            "text/plain": [
              "LinearRegression()"
            ],
            "text/html": [
              "<style>#sk-container-id-1 {color: black;background-color: white;}#sk-container-id-1 pre{padding: 0;}#sk-container-id-1 div.sk-toggleable {background-color: white;}#sk-container-id-1 label.sk-toggleable__label {cursor: pointer;display: block;width: 100%;margin-bottom: 0;padding: 0.3em;box-sizing: border-box;text-align: center;}#sk-container-id-1 label.sk-toggleable__label-arrow:before {content: \"▸\";float: left;margin-right: 0.25em;color: #696969;}#sk-container-id-1 label.sk-toggleable__label-arrow:hover:before {color: black;}#sk-container-id-1 div.sk-estimator:hover label.sk-toggleable__label-arrow:before {color: black;}#sk-container-id-1 div.sk-toggleable__content {max-height: 0;max-width: 0;overflow: hidden;text-align: left;background-color: #f0f8ff;}#sk-container-id-1 div.sk-toggleable__content pre {margin: 0.2em;color: black;border-radius: 0.25em;background-color: #f0f8ff;}#sk-container-id-1 input.sk-toggleable__control:checked~div.sk-toggleable__content {max-height: 200px;max-width: 100%;overflow: auto;}#sk-container-id-1 input.sk-toggleable__control:checked~label.sk-toggleable__label-arrow:before {content: \"▾\";}#sk-container-id-1 div.sk-estimator input.sk-toggleable__control:checked~label.sk-toggleable__label {background-color: #d4ebff;}#sk-container-id-1 div.sk-label input.sk-toggleable__control:checked~label.sk-toggleable__label {background-color: #d4ebff;}#sk-container-id-1 input.sk-hidden--visually {border: 0;clip: rect(1px 1px 1px 1px);clip: rect(1px, 1px, 1px, 1px);height: 1px;margin: -1px;overflow: hidden;padding: 0;position: absolute;width: 1px;}#sk-container-id-1 div.sk-estimator {font-family: monospace;background-color: #f0f8ff;border: 1px dotted black;border-radius: 0.25em;box-sizing: border-box;margin-bottom: 0.5em;}#sk-container-id-1 div.sk-estimator:hover {background-color: #d4ebff;}#sk-container-id-1 div.sk-parallel-item::after {content: \"\";width: 100%;border-bottom: 1px solid gray;flex-grow: 1;}#sk-container-id-1 div.sk-label:hover label.sk-toggleable__label {background-color: #d4ebff;}#sk-container-id-1 div.sk-serial::before {content: \"\";position: absolute;border-left: 1px solid gray;box-sizing: border-box;top: 0;bottom: 0;left: 50%;z-index: 0;}#sk-container-id-1 div.sk-serial {display: flex;flex-direction: column;align-items: center;background-color: white;padding-right: 0.2em;padding-left: 0.2em;position: relative;}#sk-container-id-1 div.sk-item {position: relative;z-index: 1;}#sk-container-id-1 div.sk-parallel {display: flex;align-items: stretch;justify-content: center;background-color: white;position: relative;}#sk-container-id-1 div.sk-item::before, #sk-container-id-1 div.sk-parallel-item::before {content: \"\";position: absolute;border-left: 1px solid gray;box-sizing: border-box;top: 0;bottom: 0;left: 50%;z-index: -1;}#sk-container-id-1 div.sk-parallel-item {display: flex;flex-direction: column;z-index: 1;position: relative;background-color: white;}#sk-container-id-1 div.sk-parallel-item:first-child::after {align-self: flex-end;width: 50%;}#sk-container-id-1 div.sk-parallel-item:last-child::after {align-self: flex-start;width: 50%;}#sk-container-id-1 div.sk-parallel-item:only-child::after {width: 0;}#sk-container-id-1 div.sk-dashed-wrapped {border: 1px dashed gray;margin: 0 0.4em 0.5em 0.4em;box-sizing: border-box;padding-bottom: 0.4em;background-color: white;}#sk-container-id-1 div.sk-label label {font-family: monospace;font-weight: bold;display: inline-block;line-height: 1.2em;}#sk-container-id-1 div.sk-label-container {text-align: center;}#sk-container-id-1 div.sk-container {/* jupyter's `normalize.less` sets `[hidden] { display: none; }` but bootstrap.min.css set `[hidden] { display: none !important; }` so we also need the `!important` here to be able to override the default hidden behavior on the sphinx rendered scikit-learn.org. See: https://github.com/scikit-learn/scikit-learn/issues/21755 */display: inline-block !important;position: relative;}#sk-container-id-1 div.sk-text-repr-fallback {display: none;}</style><div id=\"sk-container-id-1\" class=\"sk-top-container\"><div class=\"sk-text-repr-fallback\"><pre>LinearRegression()</pre><b>In a Jupyter environment, please rerun this cell to show the HTML representation or trust the notebook. <br />On GitHub, the HTML representation is unable to render, please try loading this page with nbviewer.org.</b></div><div class=\"sk-container\" hidden><div class=\"sk-item\"><div class=\"sk-estimator sk-toggleable\"><input class=\"sk-toggleable__control sk-hidden--visually\" id=\"sk-estimator-id-1\" type=\"checkbox\" checked><label for=\"sk-estimator-id-1\" class=\"sk-toggleable__label sk-toggleable__label-arrow\">LinearRegression</label><div class=\"sk-toggleable__content\"><pre>LinearRegression()</pre></div></div></div></div></div>"
            ]
          },
          "metadata": {},
          "execution_count": 14
        }
      ]
    },
    {
      "cell_type": "code",
      "source": [
        "linear_predictions = linear_model.predict(X_test_scaled)\n",
        "\n",
        "# Create a scatter plot\n",
        "plt.scatter(y_test, linear_predictions)\n",
        "plt.xlabel('Actual Prices')\n",
        "plt.ylabel('Predicted Prices')\n",
        "plt.title('Linear Regression: Actual vs Predicted Prices')\n",
        "plt.show()"
      ],
      "metadata": {
        "id": "JxLGtAvOxpk8",
        "outputId": "565d0963-e6cd-4871-bdde-43a3798a4d74",
        "colab": {
          "base_uri": "https://localhost:8080/",
          "height": 472
        }
      },
      "execution_count": null,
      "outputs": [
        {
          "output_type": "display_data",
          "data": {
            "text/plain": [
              "<Figure size 640x480 with 1 Axes>"
            ],
            "image/png": "[encoded data removed]"
          },
          "metadata": {}
        }
      ]
    },
    {
      "cell_type": "code",
      "source": [
        "\n",
        "# Visualize the Confusion Matrix using a heatmap\n",
        "sns.heatmap(conf_matrix_logistic, annot=True, fmt='d', cmap='Blues',\n",
        "            xticklabels=['Affordable (0)', 'Expensive (1)'],\n",
        "            yticklabels=['Affordable (0)', 'Expensive (1)'])\n",
        "plt.xlabel('Predicted')\n",
        "plt.ylabel('Actual')\n",
        "plt.title('Confusion Matrix - Logistic Regression')\n",
        "plt.show()"
      ],
      "metadata": {
        "id": "ZJuMcgMizdXg",
        "outputId": "c6242d93-053c-4c34-f042-e544613e08da",
        "colab": {
          "base_uri": "https://localhost:8080/",
          "height": 472
        }
      },
      "execution_count": null,
      "outputs": [
        {
          "output_type": "display_data",
          "data": {
            "text/plain": [
              "<Figure size 640x480 with 2 Axes>"
            ],
            "image/png": "[encoded data removed]"
          },
          "metadata": {}
        }
      ]
    },
    {
      "cell_type": "code",
      "source": [
        "# Make predictions on the test set\n",
        "linear_predictions = linear_model.predict(X_test_scaled)\n",
        "\n"
      ],
      "metadata": {
        "id": "-dGTdfoyuCOC"
      },
      "execution_count": null,
      "outputs": []
    },
    {
      "cell_type": "code",
      "source": [
        "# Evaluate the performance\n",
        "linear_mse = mean_squared_error(y_test, linear_predictions)\n",
        "print(f'Linear Regression MSE: {linear_mse}')\n",
        "\n"
      ],
      "metadata": {
        "id": "oYwd63R8uAei",
        "outputId": "9082472e-2e4b-42cf-e439-2459aaf4cc58",
        "colab": {
          "base_uri": "https://localhost:8080/"
        }
      },
      "execution_count": null,
      "outputs": [
        {
          "output_type": "stream",
          "name": "stdout",
          "text": [
            "Linear Regression MSE: 1754318687330.6677\n"
          ]
        }
      ]
    },
    {
      "cell_type": "code",
      "source": [
        "# 2. MLP (Multi-Layer Perceptron) using scikit-learn\n",
        "mlp_model = MLPRegressor(hidden_layer_sizes=(100, 50), max_iter=500, random_state=42)\n",
        "mlp_model.fit(X_train_scaled, y_train)\n",
        "\n"
      ],
      "metadata": {
        "id": "TnXs8SpVw2zj",
        "outputId": "3b220ed8-ff3d-4588-b0f9-4910c73648cb",
        "colab": {
          "base_uri": "https://localhost:8080/",
          "height": 129
        }
      },
      "execution_count": null,
      "outputs": [
        {
          "output_type": "stream",
          "name": "stderr",
          "text": [
            "/usr/local/lib/python3.10/dist-packages/sklearn/neural_network/_multilayer_perceptron.py:686: ConvergenceWarning: Stochastic Optimizer: Maximum iterations (500) reached and the optimization hasn't converged yet.\n",
            "  warnings.warn(\n"
          ]
        },
        {
          "output_type": "execute_result",
          "data": {
            "text/plain": [
              "MLPRegressor(hidden_layer_sizes=(100, 50), max_iter=500, random_state=42)"
            ],
            "text/html": [
              "<style>#sk-container-id-2 {color: black;background-color: white;}#sk-container-id-2 pre{padding: 0;}#sk-container-id-2 div.sk-toggleable {background-color: white;}#sk-container-id-2 label.sk-toggleable__label {cursor: pointer;display: block;width: 100%;margin-bottom: 0;padding: 0.3em;box-sizing: border-box;text-align: center;}#sk-container-id-2 label.sk-toggleable__label-arrow:before {content: \"▸\";float: left;margin-right: 0.25em;color: #696969;}#sk-container-id-2 label.sk-toggleable__label-arrow:hover:before {color: black;}#sk-container-id-2 div.sk-estimator:hover label.sk-toggleable__label-arrow:before {color: black;}#sk-container-id-2 div.sk-toggleable__content {max-height: 0;max-width: 0;overflow: hidden;text-align: left;background-color: #f0f8ff;}#sk-container-id-2 div.sk-toggleable__content pre {margin: 0.2em;color: black;border-radius: 0.25em;background-color: #f0f8ff;}#sk-container-id-2 input.sk-toggleable__control:checked~div.sk-toggleable__content {max-height: 200px;max-width: 100%;overflow: auto;}#sk-container-id-2 input.sk-toggleable__control:checked~label.sk-toggleable__label-arrow:before {content: \"▾\";}#sk-container-id-2 div.sk-estimator input.sk-toggleable__control:checked~label.sk-toggleable__label {background-color: #d4ebff;}#sk-container-id-2 div.sk-label input.sk-toggleable__control:checked~label.sk-toggleable__label {background-color: #d4ebff;}#sk-container-id-2 input.sk-hidden--visually {border: 0;clip: rect(1px 1px 1px 1px);clip: rect(1px, 1px, 1px, 1px);height: 1px;margin: -1px;overflow: hidden;padding: 0;position: absolute;width: 1px;}#sk-container-id-2 div.sk-estimator {font-family: monospace;background-color: #f0f8ff;border: 1px dotted black;border-radius: 0.25em;box-sizing: border-box;margin-bottom: 0.5em;}#sk-container-id-2 div.sk-estimator:hover {background-color: #d4ebff;}#sk-container-id-2 div.sk-parallel-item::after {content: \"\";width: 100%;border-bottom: 1px solid gray;flex-grow: 1;}#sk-container-id-2 div.sk-label:hover label.sk-toggleable__label {background-color: #d4ebff;}#sk-container-id-2 div.sk-serial::before {content: \"\";position: absolute;border-left: 1px solid gray;box-sizing: border-box;top: 0;bottom: 0;left: 50%;z-index: 0;}#sk-container-id-2 div.sk-serial {display: flex;flex-direction: column;align-items: center;background-color: white;padding-right: 0.2em;padding-left: 0.2em;position: relative;}#sk-container-id-2 div.sk-item {position: relative;z-index: 1;}#sk-container-id-2 div.sk-parallel {display: flex;align-items: stretch;justify-content: center;background-color: white;position: relative;}#sk-container-id-2 div.sk-item::before, #sk-container-id-2 div.sk-parallel-item::before {content: \"\";position: absolute;border-left: 1px solid gray;box-sizing: border-box;top: 0;bottom: 0;left: 50%;z-index: -1;}#sk-container-id-2 div.sk-parallel-item {display: flex;flex-direction: column;z-index: 1;position: relative;background-color: white;}#sk-container-id-2 div.sk-parallel-item:first-child::after {align-self: flex-end;width: 50%;}#sk-container-id-2 div.sk-parallel-item:last-child::after {align-self: flex-start;width: 50%;}#sk-container-id-2 div.sk-parallel-item:only-child::after {width: 0;}#sk-container-id-2 div.sk-dashed-wrapped {border: 1px dashed gray;margin: 0 0.4em 0.5em 0.4em;box-sizing: border-box;padding-bottom: 0.4em;background-color: white;}#sk-container-id-2 div.sk-label label {font-family: monospace;font-weight: bold;display: inline-block;line-height: 1.2em;}#sk-container-id-2 div.sk-label-container {text-align: center;}#sk-container-id-2 div.sk-container {/* jupyter's `normalize.less` sets `[hidden] { display: none; }` but bootstrap.min.css set `[hidden] { display: none !important; }` so we also need the `!important` here to be able to override the default hidden behavior on the sphinx rendered scikit-learn.org. See: https://github.com/scikit-learn/scikit-learn/issues/21755 */display: inline-block !important;position: relative;}#sk-container-id-2 div.sk-text-repr-fallback {display: none;}</style><div id=\"sk-container-id-2\" class=\"sk-top-container\"><div class=\"sk-text-repr-fallback\"><pre>MLPRegressor(hidden_layer_sizes=(100, 50), max_iter=500, random_state=42)</pre><b>In a Jupyter environment, please rerun this cell to show the HTML representation or trust the notebook. <br />On GitHub, the HTML representation is unable to render, please try loading this page with nbviewer.org.</b></div><div class=\"sk-container\" hidden><div class=\"sk-item\"><div class=\"sk-estimator sk-toggleable\"><input class=\"sk-toggleable__control sk-hidden--visually\" id=\"sk-estimator-id-2\" type=\"checkbox\" checked><label for=\"sk-estimator-id-2\" class=\"sk-toggleable__label sk-toggleable__label-arrow\">MLPRegressor</label><div class=\"sk-toggleable__content\"><pre>MLPRegressor(hidden_layer_sizes=(100, 50), max_iter=500, random_state=42)</pre></div></div></div></div></div>"
            ]
          },
          "metadata": {},
          "execution_count": 19
        }
      ]
    },
    {
      "cell_type": "code",
      "source": [
        "mlp_predictions = mlp_model.predict(X_test_scaled)\n",
        "\n",
        "# Create a scatter plot\n",
        "plt.scatter(y_test, mlp_predictions)\n",
        "plt.xlabel('Actual Prices')\n",
        "plt.ylabel('Predicted Prices')\n",
        "plt.title('MLP Regression: Actual vs Predicted Prices')\n",
        "plt.show()"
      ],
      "metadata": {
        "id": "lW15Uojtxx2S",
        "outputId": "40ad3229-cecf-4c45-cc10-59dfef69d976",
        "colab": {
          "base_uri": "https://localhost:8080/",
          "height": 472
        }
      },
      "execution_count": null,
      "outputs": [
        {
          "output_type": "display_data",
          "data": {
            "text/plain": [
              "<Figure size 640x480 with 1 Axes>"
            ],
            "image/png": "[encoded data removed]"
          },
          "metadata": {}
        }
      ]
    },
    {
      "cell_type": "code",
      "source": [
        "\n",
        "# Make predictions on the test set\n",
        "mlp_predictions = mlp_classifier.predict(X_test_scaled)\n",
        "\n",
        "\n",
        "# Visualize the Confusion Matrix using a heatmap\n",
        "sns.heatmap(conf_matrix_mlp, annot=True, fmt='d', cmap='Blues',\n",
        "            xticklabels=['Affordable (0)', 'Expensive (1)'],\n",
        "            yticklabels=['Affordable (0)', 'Expensive (1)'])\n",
        "plt.xlabel('Predicted')\n",
        "plt.ylabel('Actual')\n",
        "plt.title('Confusion Matrix - MLP Classifier')\n",
        "plt.show()\n",
        "\n",
        "\n"
      ],
      "metadata": {
        "id": "rEpyL9AGz3Hf",
        "outputId": "84db279a-14f3-4667-ce27-c50880e44281",
        "colab": {
          "base_uri": "https://localhost:8080/",
          "height": 472
        }
      },
      "execution_count": null,
      "outputs": [
        {
          "output_type": "display_data",
          "data": {
            "text/plain": [
              "<Figure size 640x480 with 2 Axes>"
            ],
            "image/png": "[encoded data removed]"
          },
          "metadata": {}
        }
      ]
    },
    {
      "cell_type": "code",
      "source": [
        "# Make predictions on the test set\n",
        "mlp_predictions = mlp_model.predict(X_test_scaled)\n",
        "\n"
      ],
      "metadata": {
        "id": "OWiYeEwBw2wK"
      },
      "execution_count": null,
      "outputs": []
    },
    {
      "cell_type": "code",
      "source": [
        "# Evaluate the performance\n",
        "mlp_mse = mean_squared_error(y_test, mlp_predictions)\n",
        "print(f'MLP MSE: {mlp_mse}')\n",
        "\n"
      ],
      "metadata": {
        "id": "V0HCMaPtw2uE",
        "outputId": "38b0e5d2-39ce-47e9-ba4d-255aa0243841",
        "colab": {
          "base_uri": "https://localhost:8080/"
        }
      },
      "execution_count": null,
      "outputs": [
        {
          "output_type": "stream",
          "name": "stdout",
          "text": [
            "MLP MSE: 28027817222821.31\n"
          ]
        }
      ]
    },
    {
      "cell_type": "code",
      "source": [
        "from tensorflow.keras.models import Sequential\n",
        "from tensorflow.keras.layers import Dense\n",
        "\n",
        "model = Sequential()\n",
        "model.add(Dense(64, activation='relu', input_shape=(X_train_scaled.shape[1],)))\n",
        "model.add(Dense(128, activation='relu'))\n",
        "model.add(Dense(64, activation='relu'))\n",
        "model.add(Dense(32, activation='relu'))\n",
        "model.add(Dense(1))\n",
        "\n",
        "\n"
      ],
      "metadata": {
        "id": "8qfra8jJw2rm"
      },
      "execution_count": null,
      "outputs": []
    },
    {
      "cell_type": "code",
      "source": [
        "\n",
        "model.compile(optimizer='adam', loss='mean_squared_error')\n",
        "\n",
        "# Train the model\n",
        "model.fit(X_train_scaled, y_train, epochs=50, batch_size=32, validation_split=0.2, verbose=2)\n",
        "\n"
      ],
      "metadata": {
        "id": "vfj3zmeVw2pX",
        "outputId": "25055df2-cf6b-4acb-f1ab-0ca1e260c356",
        "colab": {
          "base_uri": "https://localhost:8080/"
        }
      },
      "execution_count": null,
      "outputs": [
        {
          "output_type": "stream",
          "name": "stdout",
          "text": [
            "Epoch 1/50\n",
            "11/11 - 1s - loss: 0.2572 - val_loss: 0.2093 - 1s/epoch - 112ms/step\n",
            "Epoch 2/50\n",
            "11/11 - 0s - loss: 0.1370 - val_loss: 0.1859 - 77ms/epoch - 7ms/step\n",
            "Epoch 3/50\n",
            "11/11 - 0s - loss: 0.1181 - val_loss: 0.1810 - 72ms/epoch - 7ms/step\n",
            "Epoch 4/50\n",
            "11/11 - 0s - loss: 0.1037 - val_loss: 0.1737 - 86ms/epoch - 8ms/step\n",
            "Epoch 5/50\n",
            "11/11 - 0s - loss: 0.0942 - val_loss: 0.1706 - 90ms/epoch - 8ms/step\n",
            "Epoch 6/50\n",
            "11/11 - 0s - loss: 0.0867 - val_loss: 0.1769 - 88ms/epoch - 8ms/step\n",
            "Epoch 7/50\n",
            "11/11 - 0s - loss: 0.0825 - val_loss: 0.1724 - 82ms/epoch - 7ms/step\n",
            "Epoch 8/50\n",
            "11/11 - 0s - loss: 0.0744 - val_loss: 0.1718 - 74ms/epoch - 7ms/step\n",
            "Epoch 9/50\n",
            "11/11 - 0s - loss: 0.0699 - val_loss: 0.1754 - 92ms/epoch - 8ms/step\n",
            "Epoch 10/50\n",
            "11/11 - 0s - loss: 0.0629 - val_loss: 0.1785 - 85ms/epoch - 8ms/step\n",
            "Epoch 11/50\n",
            "11/11 - 0s - loss: 0.0584 - val_loss: 0.1762 - 68ms/epoch - 6ms/step\n",
            "Epoch 12/50\n",
            "11/11 - 0s - loss: 0.0537 - val_loss: 0.1745 - 91ms/epoch - 8ms/step\n",
            "Epoch 13/50\n",
            "11/11 - 0s - loss: 0.0498 - val_loss: 0.1901 - 76ms/epoch - 7ms/step\n",
            "Epoch 14/50\n",
            "11/11 - 0s - loss: 0.0450 - val_loss: 0.1849 - 72ms/epoch - 7ms/step\n",
            "Epoch 15/50\n",
            "11/11 - 0s - loss: 0.0411 - val_loss: 0.1771 - 93ms/epoch - 8ms/step\n",
            "Epoch 16/50\n",
            "11/11 - 0s - loss: 0.0396 - val_loss: 0.1886 - 79ms/epoch - 7ms/step\n",
            "Epoch 17/50\n",
            "11/11 - 0s - loss: 0.0372 - val_loss: 0.1912 - 66ms/epoch - 6ms/step\n",
            "Epoch 18/50\n",
            "11/11 - 0s - loss: 0.0323 - val_loss: 0.1916 - 73ms/epoch - 7ms/step\n",
            "Epoch 19/50\n",
            "11/11 - 0s - loss: 0.0309 - val_loss: 0.1843 - 80ms/epoch - 7ms/step\n",
            "Epoch 20/50\n",
            "11/11 - 0s - loss: 0.0274 - val_loss: 0.1962 - 75ms/epoch - 7ms/step\n",
            "Epoch 21/50\n",
            "11/11 - 0s - loss: 0.0265 - val_loss: 0.1914 - 77ms/epoch - 7ms/step\n",
            "Epoch 22/50\n",
            "11/11 - 0s - loss: 0.0232 - val_loss: 0.1868 - 80ms/epoch - 7ms/step\n",
            "Epoch 23/50\n",
            "11/11 - 0s - loss: 0.0214 - val_loss: 0.1959 - 69ms/epoch - 6ms/step\n",
            "Epoch 24/50\n",
            "11/11 - 0s - loss: 0.0199 - val_loss: 0.1960 - 79ms/epoch - 7ms/step\n",
            "Epoch 25/50\n",
            "11/11 - 0s - loss: 0.0191 - val_loss: 0.2019 - 69ms/epoch - 6ms/step\n",
            "Epoch 26/50\n",
            "11/11 - 0s - loss: 0.0175 - val_loss: 0.1948 - 67ms/epoch - 6ms/step\n",
            "Epoch 27/50\n",
            "11/11 - 0s - loss: 0.0173 - val_loss: 0.2104 - 82ms/epoch - 7ms/step\n",
            "Epoch 28/50\n",
            "11/11 - 0s - loss: 0.0155 - val_loss: 0.1994 - 78ms/epoch - 7ms/step\n",
            "Epoch 29/50\n",
            "11/11 - 0s - loss: 0.0157 - val_loss: 0.2097 - 95ms/epoch - 9ms/step\n",
            "Epoch 30/50\n",
            "11/11 - 0s - loss: 0.0154 - val_loss: 0.2123 - 85ms/epoch - 8ms/step\n",
            "Epoch 31/50\n",
            "11/11 - 0s - loss: 0.0142 - val_loss: 0.2152 - 75ms/epoch - 7ms/step\n",
            "Epoch 32/50\n",
            "11/11 - 0s - loss: 0.0124 - val_loss: 0.2082 - 75ms/epoch - 7ms/step\n",
            "Epoch 33/50\n",
            "11/11 - 0s - loss: 0.0123 - val_loss: 0.2106 - 80ms/epoch - 7ms/step\n",
            "Epoch 34/50\n",
            "11/11 - 0s - loss: 0.0106 - val_loss: 0.2050 - 85ms/epoch - 8ms/step\n",
            "Epoch 35/50\n",
            "11/11 - 0s - loss: 0.0114 - val_loss: 0.2144 - 75ms/epoch - 7ms/step\n",
            "Epoch 36/50\n",
            "11/11 - 0s - loss: 0.0103 - val_loss: 0.2112 - 86ms/epoch - 8ms/step\n",
            "Epoch 37/50\n",
            "11/11 - 0s - loss: 0.0110 - val_loss: 0.2170 - 72ms/epoch - 7ms/step\n",
            "Epoch 38/50\n",
            "11/11 - 0s - loss: 0.0101 - val_loss: 0.2071 - 82ms/epoch - 7ms/step\n",
            "Epoch 39/50\n",
            "11/11 - 0s - loss: 0.0104 - val_loss: 0.2188 - 79ms/epoch - 7ms/step\n",
            "Epoch 40/50\n",
            "11/11 - 0s - loss: 0.0100 - val_loss: 0.2143 - 86ms/epoch - 8ms/step\n",
            "Epoch 41/50\n",
            "11/11 - 0s - loss: 0.0104 - val_loss: 0.2138 - 88ms/epoch - 8ms/step\n",
            "Epoch 42/50\n",
            "11/11 - 0s - loss: 0.0105 - val_loss: 0.2168 - 95ms/epoch - 9ms/step\n",
            "Epoch 43/50\n",
            "11/11 - 0s - loss: 0.0092 - val_loss: 0.2267 - 84ms/epoch - 8ms/step\n",
            "Epoch 44/50\n",
            "11/11 - 0s - loss: 0.0097 - val_loss: 0.2247 - 83ms/epoch - 8ms/step\n",
            "Epoch 45/50\n",
            "11/11 - 0s - loss: 0.0106 - val_loss: 0.2204 - 77ms/epoch - 7ms/step\n",
            "Epoch 46/50\n",
            "11/11 - 0s - loss: 0.0102 - val_loss: 0.2139 - 94ms/epoch - 9ms/step\n",
            "Epoch 47/50\n",
            "11/11 - 0s - loss: 0.0090 - val_loss: 0.2280 - 75ms/epoch - 7ms/step\n",
            "Epoch 48/50\n",
            "11/11 - 0s - loss: 0.0100 - val_loss: 0.2206 - 87ms/epoch - 8ms/step\n",
            "Epoch 49/50\n",
            "11/11 - 0s - loss: 0.0101 - val_loss: 0.2132 - 91ms/epoch - 8ms/step\n",
            "Epoch 50/50\n",
            "11/11 - 0s - loss: 0.0091 - val_loss: 0.2194 - 63ms/epoch - 6ms/step\n"
          ]
        },
        {
          "output_type": "execute_result",
          "data": {
            "text/plain": [
              "<keras.src.callbacks.History at 0x7efa8cbdd720>"
            ]
          },
          "metadata": {},
          "execution_count": 60
        }
      ]
    },
    {
      "cell_type": "code",
      "source": [
        "# Evaluate the model on the test set\n",
        "nn_predictions = model.predict(X_test_scaled)\n",
        "nn_mse = mean_squared_error(y_test, nn_predictions)\n",
        "print(f'Neural Network MSE: {nn_mse}')"
      ],
      "metadata": {
        "id": "pH6NCy64w2nJ",
        "outputId": "c9b964bb-a2aa-4c07-c212-684ea36d8183",
        "colab": {
          "base_uri": "https://localhost:8080/"
        }
      },
      "execution_count": null,
      "outputs": [
        {
          "output_type": "stream",
          "name": "stdout",
          "text": [
            "4/4 [==============================] - 0s 6ms/step\n",
            "Neural Network MSE: 0.1815404556697086\n"
          ]
        }
      ]
    }
  ],
  "metadata": {
    "colab": {
      "provenance": []
    },
    "kernelspec": {
      "display_name": "Python 3",
      "name": "python3"
    }
  },
  "nbformat": 4,
  "nbformat_minor": 0
}